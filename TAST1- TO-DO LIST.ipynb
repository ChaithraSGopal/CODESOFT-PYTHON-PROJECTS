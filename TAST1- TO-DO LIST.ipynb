{
 "cells": [
  {
   "cell_type": "markdown",
   "id": "ff959d69",
   "metadata": {},
   "source": [
    "TASK1 TO-DO LIST\n",
    "NAME: CHAITHRA SG\n",
    "BATCH-A47"
   ]
  },
  {
   "cell_type": "code",
   "execution_count": 1,
   "id": "d25cc7ea",
   "metadata": {},
   "outputs": [],
   "source": [
    "#importing packages \n",
    "from  tkinter import * \n",
    "import tkinter.messagebox"
   ]
  },
  {
   "cell_type": "code",
   "execution_count": 2,
   "id": "cab4358f",
   "metadata": {},
   "outputs": [],
   "source": [
    "#function to enter the task in the Listbox\n",
    "def entertask():\n",
    "    #A new window to pop up to take input\n",
    "    input_text=\"\"\n",
    "    def add():\n",
    "        input_text=entry_task.get(1.0, \"end-1c\")\n",
    "        if input_text==\"\":\n",
    "            tkinter.messagebox.showwarning(title=\"Warning!\",message=\"Please Enter some Text\")\n",
    "        else:\n",
    "            listbox_task.insert(END,input_text)\n",
    "            #close the root1 window\n",
    "            root1.destroy()\n",
    "    root1=Tk()\n",
    "    root1.title(\"Add task\")\n",
    "    entry_task=Text(root1,width=40,height=4)\n",
    "    entry_task.pack()\n",
    "    button_temp=Button(root1,text=\"Add task\",command=add)\n",
    "    button_temp.pack()\n",
    "    root1.mainloop()\n",
    "    \n"
   ]
  },
  {
   "cell_type": "code",
   "execution_count": 3,
   "id": "981639da",
   "metadata": {},
   "outputs": [
    {
     "data": {
      "text/plain": [
       "''"
      ]
     },
     "execution_count": 3,
     "metadata": {},
     "output_type": "execute_result"
    }
   ],
   "source": [
    "#function to facilitate the delete task from the Listbox\n",
    "def deletetask():\n",
    "    #selects the slected item and then deletes it \n",
    "    selected=listbox_task.curselection()\n",
    "    listbox_task.delete(selected[0])\n",
    "#Executes this to mark completed \n",
    "\n",
    "def markcompleted():\n",
    "    marked=listbox_task.curselection()\n",
    "    temp=marked[0]\n",
    "    #store the text of selected item in a string\n",
    "    temp_marked=listbox_task.get(marked)\n",
    "    #update it \n",
    "    temp_marked=temp_marked+\" ✔\"\n",
    "    #delete it then insert it \n",
    "    listbox_task.delete(temp)\n",
    "    listbox_task.insert(temp,temp_marked)\n",
    "#creating the initial window\n",
    "window=Tk()\n",
    "#giving a title\n",
    "window.title(\"DataFlair To_Do_APP\")\n"
   ]
  },
  {
   "cell_type": "code",
   "execution_count": 4,
   "id": "adb5f29c",
   "metadata": {},
   "outputs": [],
   "source": [
    "#Frame widget to hold the listbox and the scrollbar\n",
    "frame_task=Frame(window)\n",
    "frame_task.pack()\n"
   ]
  },
  {
   "cell_type": "code",
   "execution_count": 5,
   "id": "7b0e6ce0",
   "metadata": {},
   "outputs": [],
   "source": [
    "#to hold items in a listbox\n",
    "listbox_task=Listbox(frame_task,bg=\"black\",fg=\"white\",height=15,width=50,font = \"Helvetica\")  \n",
    "listbox_task.pack(side=tkinter.LEFT)"
   ]
  },
  {
   "cell_type": "code",
   "execution_count": 6,
   "id": "a03229b4",
   "metadata": {},
   "outputs": [],
   "source": [
    "#Scrolldown in case the total list exceeds the size of the given window \n",
    "scrollbar_task=Scrollbar(frame_task)\n",
    "scrollbar_task.pack(side=tkinter.RIGHT,fill=tkinter.Y)\n",
    "listbox_task.config(yscrollcommand=scrollbar_task.set)\n",
    "scrollbar_task.config(command=listbox_task.yview)"
   ]
  },
  {
   "cell_type": "code",
   "execution_count": 7,
   "id": "e10db0d2",
   "metadata": {},
   "outputs": [],
   "source": [
    "#Button widget \n",
    "entry_button=Button(window,text=\"Add task\",width=50,command=entertask)\n",
    "entry_button.pack(pady=3)\n"
   ]
  },
  {
   "cell_type": "code",
   "execution_count": 8,
   "id": "c28825b5",
   "metadata": {},
   "outputs": [],
   "source": [
    "delete_button=Button(window,text=\"Delete selected task\",width=50,command=deletetask)\n",
    "delete_button.pack(pady=3)\n"
   ]
  },
  {
   "cell_type": "code",
   "execution_count": 9,
   "id": "d17fa051",
   "metadata": {},
   "outputs": [],
   "source": [
    "mark_button=Button(window,text=\"Mark as completed \",width=50,command=markcompleted)\n",
    "mark_button.pack(pady=3)"
   ]
  },
  {
   "cell_type": "code",
   "execution_count": 10,
   "id": "18ade8bc",
   "metadata": {},
   "outputs": [
    {
     "name": "stderr",
     "output_type": "stream",
     "text": [
      "Exception in Tkinter callback\n",
      "Traceback (most recent call last):\n",
      "  File \"C:\\Users\\Admin\\anaconda3\\Lib\\tkinter\\__init__.py\", line 1948, in __call__\n",
      "    return self.func(*args)\n",
      "           ^^^^^^^^^^^^^^^^\n",
      "  File \"C:\\Users\\Admin\\AppData\\Local\\Temp\\ipykernel_21664\\3016940934.py\", line 10, in markcompleted\n",
      "    temp=marked[0]\n",
      "         ~~~~~~^^^\n",
      "IndexError: tuple index out of range\n",
      "Exception in Tkinter callback\n",
      "Traceback (most recent call last):\n",
      "  File \"C:\\Users\\Admin\\anaconda3\\Lib\\tkinter\\__init__.py\", line 1948, in __call__\n",
      "    return self.func(*args)\n",
      "           ^^^^^^^^^^^^^^^^\n",
      "  File \"C:\\Users\\Admin\\AppData\\Local\\Temp\\ipykernel_21664\\3016940934.py\", line 5, in deletetask\n",
      "    listbox_task.delete(selected[0])\n",
      "                        ~~~~~~~~^^^\n",
      "IndexError: tuple index out of range\n",
      "Exception in Tkinter callback\n",
      "Traceback (most recent call last):\n",
      "  File \"C:\\Users\\Admin\\anaconda3\\Lib\\tkinter\\__init__.py\", line 1948, in __call__\n",
      "    return self.func(*args)\n",
      "           ^^^^^^^^^^^^^^^^\n",
      "  File \"C:\\Users\\Admin\\AppData\\Local\\Temp\\ipykernel_21664\\3016940934.py\", line 5, in deletetask\n",
      "    listbox_task.delete(selected[0])\n",
      "                        ~~~~~~~~^^^\n",
      "IndexError: tuple index out of range\n",
      "Exception in Tkinter callback\n",
      "Traceback (most recent call last):\n",
      "  File \"C:\\Users\\Admin\\anaconda3\\Lib\\tkinter\\__init__.py\", line 1948, in __call__\n",
      "    return self.func(*args)\n",
      "           ^^^^^^^^^^^^^^^^\n",
      "  File \"C:\\Users\\Admin\\AppData\\Local\\Temp\\ipykernel_21664\\3016940934.py\", line 5, in deletetask\n",
      "    listbox_task.delete(selected[0])\n",
      "                        ~~~~~~~~^^^\n",
      "IndexError: tuple index out of range\n"
     ]
    }
   ],
   "source": [
    "window.mainloop()"
   ]
  },
  {
   "cell_type": "code",
   "execution_count": null,
   "id": "ac72bbe0",
   "metadata": {},
   "outputs": [],
   "source": []
  }
 ],
 "metadata": {
  "kernelspec": {
   "display_name": "Python 3 (ipykernel)",
   "language": "python",
   "name": "python3"
  },
  "language_info": {
   "codemirror_mode": {
    "name": "ipython",
    "version": 3
   },
   "file_extension": ".py",
   "mimetype": "text/x-python",
   "name": "python",
   "nbconvert_exporter": "python",
   "pygments_lexer": "ipython3",
   "version": "3.11.7"
  }
 },
 "nbformat": 4,
 "nbformat_minor": 5
}
