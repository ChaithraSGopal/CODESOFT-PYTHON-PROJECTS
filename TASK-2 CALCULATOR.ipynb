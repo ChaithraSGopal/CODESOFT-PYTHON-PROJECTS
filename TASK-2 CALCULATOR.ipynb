{
 "cells": [
  {
   "cell_type": "markdown",
   "id": "94130459",
   "metadata": {},
   "source": [
    "name: Chaithra S G\n",
    "Batch: A47\n",
    "\n",
    "Task2- Calculator using Python programming"
   ]
  },
  {
   "cell_type": "code",
   "execution_count": null,
   "id": "c3eb3f8e",
   "metadata": {},
   "outputs": [],
   "source": [
    "import pandas as pd\n",
    "import numpy as np"
   ]
  },
  {
   "cell_type": "code",
   "execution_count": null,
   "id": "c0effe91",
   "metadata": {},
   "outputs": [],
   "source": [
    "operator= input(\"Enter an operator(+ - * /): \")"
   ]
  },
  {
   "cell_type": "code",
   "execution_count": null,
   "id": "cf84d6d8",
   "metadata": {},
   "outputs": [],
   "source": [
    "num1=float(input(\"Enter the 1st number: \"))"
   ]
  },
  {
   "cell_type": "code",
   "execution_count": null,
   "id": "950fa893",
   "metadata": {},
   "outputs": [],
   "source": [
    "num2=float(input(\"Enter the 2nd number: \"))"
   ]
  },
  {
   "cell_type": "code",
   "execution_count": null,
   "id": "b95ab6dc",
   "metadata": {},
   "outputs": [],
   "source": [
    "if operator == \"+\":\n",
    "    result= num1+ num2\n",
    "    print(round(result,3))"
   ]
  },
  {
   "cell_type": "code",
   "execution_count": null,
   "id": "16f457d5",
   "metadata": {},
   "outputs": [],
   "source": [
    "elif operator==\"-\":\n",
    "    result=num1-num2\n",
    "    print(round(result,3))"
   ]
  },
  {
   "cell_type": "code",
   "execution_count": null,
   "id": "96230a07",
   "metadata": {},
   "outputs": [],
   "source": [
    "elif operator==\"*\":\n",
    "    result=num1*num2\n",
    "    print(round(result,3))"
   ]
  },
  {
   "cell_type": "code",
   "execution_count": null,
   "id": "7928ed64",
   "metadata": {},
   "outputs": [],
   "source": [
    "elif operator==\"/\":\n",
    "    result=num1/num2\n",
    "    print(round(result,3))"
   ]
  },
  {
   "cell_type": "code",
   "execution_count": null,
   "id": "4a140398",
   "metadata": {},
   "outputs": [],
   "source": [
    "else:\n",
    "    print(f\"{operator} is not valid operator\")"
   ]
  },
  {
   "cell_type": "code",
   "execution_count": null,
   "id": "962f096b",
   "metadata": {},
   "outputs": [],
   "source": []
  }
 ],
 "metadata": {
  "kernelspec": {
   "display_name": "Python 3 (ipykernel)",
   "language": "python",
   "name": "python3"
  },
  "language_info": {
   "codemirror_mode": {
    "name": "ipython",
    "version": 3
   },
   "file_extension": ".py",
   "mimetype": "text/x-python",
   "name": "python",
   "nbconvert_exporter": "python",
   "pygments_lexer": "ipython3",
   "version": "3.11.7"
  }
 },
 "nbformat": 4,
 "nbformat_minor": 5
}
